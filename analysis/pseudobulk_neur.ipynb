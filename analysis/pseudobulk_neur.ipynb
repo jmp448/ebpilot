{
 "cells": [
  {
   "cell_type": "code",
   "execution_count": 10,
   "metadata": {},
   "outputs": [],
   "source": [
    "import numpy as np\n",
    "import pandas as pd\n",
    "import matplotlib\n",
    "import matplotlib.pyplot as pl\n",
    "from matplotlib import rcParams\n",
    "import scanpy as sc\n",
    "import seaborn as sns\n",
    "from scipy.sparse import csr_matrix\n",
    "from scipy.stats import rankdata\n",
    "import statistics as stat\n",
    "import pickle"
   ]
  },
  {
   "cell_type": "code",
   "execution_count": 3,
   "metadata": {},
   "outputs": [
    {
     "name": "stderr",
     "output_type": "stream",
     "text": [
      "Trying to set attribute `.obs` of view, copying.\n"
     ]
    }
   ],
   "source": [
    "neur = sc.read_h5ad('../data/neur.h5ad')\n",
    "neur = neur[:,neur.var['Selected']==1]\n",
    "neur.obs['dpt_pseudotime'] = neur.obs['dpt_pseudotime']/max(neur.obs['dpt_pseudotime'])"
   ]
  },
  {
   "cell_type": "code",
   "execution_count": 4,
   "metadata": {},
   "outputs": [
    {
     "data": {
      "text/plain": [
       "1.0"
      ]
     },
     "execution_count": 4,
     "metadata": {},
     "output_type": "execute_result"
    }
   ],
   "source": [
    "max(neur.obs['dpt_pseudotime'])"
   ]
  },
  {
   "cell_type": "markdown",
   "metadata": {},
   "source": [
    "Define pseudotime decile bins"
   ]
  },
  {
   "cell_type": "code",
   "execution_count": 6,
   "metadata": {},
   "outputs": [],
   "source": [
    "_, nG = neur.X.shape\n",
    "nC = 10\n",
    "counts = neur.X\n",
    "t = np.zeros(nC)\n",
    "numcells = np.zeros(nC)\n",
    "Y = np.zeros([nC, nG])\n",
    "bin_w = 1/nC\n",
    "for c in range(nC):\n",
    "    neur_c = neur[(c*bin_w <= neur.obs['dpt_pseudotime']) & (neur.obs['dpt_pseudotime'] < (c+1)*bin_w)]\n",
    "    exp_c = csr_matrix.sum(neur_c.X, 0)/csr_matrix.sum(neur_c.X)\n",
    "    exp_c = np.log(10**4 * exp_c + 1)\n",
    "    numcells[c] = neur_c.shape[0]\n",
    "    Y[int(c),:] = exp_c\n",
    "    t[int(c)] = np.median(neur_c.obs['dpt_pseudotime'])"
   ]
  },
  {
   "cell_type": "code",
   "execution_count": 7,
   "metadata": {},
   "outputs": [
    {
     "data": {
      "image/png": "[encoded data removed]",
      "text/plain": [
       "<Figure size 432x288 with 1 Axes>"
      ]
     },
     "metadata": {
      "needs_background": "light"
     },
     "output_type": "display_data"
    }
   ],
   "source": [
    "pl.hist(neur.obs['dpt_pseudotime'], bins=10)\n",
    "pl.xlabel(\"Pseudotime\")\n",
    "pl.ylabel(\"Number of Cells\")\n",
    "pl.show()"
   ]
  },
  {
   "cell_type": "code",
   "execution_count": 8,
   "metadata": {},
   "outputs": [],
   "source": [
    "def quantile_normalize(data):\n",
    "    featranks = np.zeros(data.shape, dtype=int)\n",
    "    normdata = np.zeros(data.shape)\n",
    "    for i in range(len(featranks)):\n",
    "        featranks[i,:] = rankdata(data[i,:])\n",
    "    featranks -= 1\n",
    "    normexp = np.average(np.sort(data, axis=1), axis=0)\n",
    "    for i in range(data.shape[0]):\n",
    "        for g in range(data.shape[1]):\n",
    "            normdata[i,g] = normexp[featranks[i,g]]\n",
    "    return(normdata)\n",
    "# Ynorm = quantile_normalize(Y)\n",
    "Ynorm = Y"
   ]
  },
  {
   "cell_type": "markdown",
   "metadata": {},
   "source": [
    "Center and scale"
   ]
  },
  {
   "cell_type": "code",
   "execution_count": 11,
   "metadata": {},
   "outputs": [],
   "source": [
    "for g in range(Ynorm.shape[1]):\n",
    "    if stat.stdev(Ynorm[:,g])==0:\n",
    "        Ynorm[:,g] = np.zeros(10)\n",
    "    else:\n",
    "        Ynorm[:,g] = (Ynorm[:,g]-np.mean(Ynorm[:,g]))/stat.stdev(Ynorm[:,g])\n",
    "Yflat = Ynorm.flatten()"
   ]
  },
  {
   "cell_type": "code",
   "execution_count": 12,
   "metadata": {},
   "outputs": [],
   "source": [
    "genedict = {neur.var.index[i]:i for i in range(len(neur.var.index))}"
   ]
  },
  {
   "cell_type": "code",
   "execution_count": 13,
   "metadata": {},
   "outputs": [
    {
     "data": {
      "image/png": "[encoded data removed]",
      "text/plain": [
       "<Figure size 432x288 with 1 Axes>"
      ]
     },
     "metadata": {
      "needs_background": "light"
     },
     "output_type": "display_data"
    }
   ],
   "source": [
    "pl.plot(t, Ynorm[:,genedict[\"POU5F1\"]], \"o\")\n",
    "pl.ylabel(\"POU5F1\")\n",
    "pl.xlabel(\"Pseudotime\")\n",
    "pl.title(\"Pluripotency marker\")\n",
    "pl.show()"
   ]
  },
  {
   "cell_type": "code",
   "execution_count": 14,
   "metadata": {},
   "outputs": [
    {
     "data": {
      "image/png": "[encoded data removed]",
      "text/plain": [
       "<Figure size 432x288 with 1 Axes>"
      ]
     },
     "metadata": {
      "needs_background": "light"
     },
     "output_type": "display_data"
    }
   ],
   "source": [
    "pl.plot(t, Ynorm[:,genedict[\"GAP43\"]], \"o\")\n",
    "pl.ylabel(\"GAP43\")\n",
    "pl.xlabel(\"Pseudotime\")\n",
    "pl.title(\"Neuronal marker\")\n",
    "pl.show()"
   ]
  },
  {
   "cell_type": "code",
   "execution_count": 15,
   "metadata": {},
   "outputs": [],
   "source": [
    "X = np.zeros([nC*nG,3])\n",
    "for c in range(nC):\n",
    "    X[c*nG:((c+1)*nG),0] = t[c]\n",
    "    X[c*nG:((c+1)*nG),1] = c\n",
    "    X[c*nG:((c+1)*nG),2] = list(range(nG))"
   ]
  },
  {
   "cell_type": "code",
   "execution_count": 16,
   "metadata": {},
   "outputs": [],
   "source": [
    "np.savetxt( \"../data/neur.X.txt\", X)\n",
    "np.savetxt(\"../data/neur.Y.txt\", Yflat)"
   ]
  },
  {
   "cell_type": "code",
   "execution_count": 17,
   "metadata": {},
   "outputs": [],
   "source": [
    "with open(\"../data/genedict.neur.pickle\", 'wb') as f:\n",
    "    pickle.dump(genedict, f)\n",
    "    f.close()"
   ]
  },
  {
   "cell_type": "code",
   "execution_count": null,
   "metadata": {},
   "outputs": [],
   "source": []
  }
 ],
 "metadata": {
  "kernelspec": {
   "display_name": "Python [conda env:myenv]",
   "language": "python",
   "name": "conda-env-myenv-py"
  },
  "language_info": {
   "codemirror_mode": {
    "name": "ipython",
    "version": 3
   },
   "file_extension": ".py",
   "mimetype": "text/x-python",
   "name": "python",
   "nbconvert_exporter": "python",
   "pygments_lexer": "ipython3",
   "version": "3.6.10"
  }
 },
 "nbformat": 4,
 "nbformat_minor": 2
}
