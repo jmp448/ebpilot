{
 "cells": [
  {
   "cell_type": "code",
   "execution_count": 10,
   "metadata": {},
   "outputs": [],
   "source": [
    "import numpy as np\n",
    "import pandas as pd\n",
    "import matplotlib\n",
    "import matplotlib.pyplot as pl\n",
    "from matplotlib import rcParams\n",
    "import scanpy as sc\n",
    "import seaborn as sns\n",
    "from scipy.sparse import csr_matrix\n",
    "from scipy.stats import rankdata\n",
    "import pickle\n",
    "import statistics as stat"
   ]
  },
  {
   "cell_type": "markdown",
   "metadata": {},
   "source": [
    "Load data, subset to highly variable genes, shift pseudotime to [0,1] scale"
   ]
  },
  {
   "cell_type": "code",
   "execution_count": 2,
   "metadata": {},
   "outputs": [
    {
     "name": "stderr",
     "output_type": "stream",
     "text": [
      "Trying to set attribute `.obs` of view, copying.\n"
     ]
    }
   ],
   "source": [
    "endo = sc.read_h5ad('../data/endo.h5ad')\n",
    "endo = endo[:,endo.var['Selected']==1]\n",
    "endo.obs['dpt_pseudotime'] = endo.obs['dpt_pseudotime']/max(endo.obs['dpt_pseudotime'])"
   ]
  },
  {
   "cell_type": "markdown",
   "metadata": {},
   "source": [
    "Sneak a peek at how our pseudotime distribution looks for this lineage"
   ]
  },
  {
   "cell_type": "code",
   "execution_count": 4,
   "metadata": {},
   "outputs": [
    {
     "data": {
      "image/png": "[encoded data removed]",
      "text/plain": [
       "<Figure size 432x288 with 1 Axes>"
      ]
     },
     "metadata": {
      "needs_background": "light"
     },
     "output_type": "display_data"
    }
   ],
   "source": [
    "pl.hist(endo.obs['dpt_pseudotime'], bins=10)\n",
    "pl.xlabel(\"Pseudotime\")\n",
    "pl.ylabel(\"Number of Cells\")\n",
    "pl.show()"
   ]
  },
  {
   "cell_type": "markdown",
   "metadata": {},
   "source": [
    "Define pseudotime decile bins, adjust for library size, and log normalize the data  \n",
    "Pseudobulk aggregation approach from [Ding et al 2019](https://www.biorxiv.org/content/10.1101/632216v1.full.pdf+html)"
   ]
  },
  {
   "cell_type": "code",
   "execution_count": 55,
   "metadata": {},
   "outputs": [],
   "source": [
    "_, nG = endo.X.shape\n",
    "nC = 10\n",
    "counts = endo.X\n",
    "t = np.zeros(nC)\n",
    "numcells = np.zeros(nC)\n",
    "Y = np.zeros([nC, nG])\n",
    "bin_w = 1/nC\n",
    "for c in range(nC):\n",
    "    endo_c = endo[(c*bin_w <= endo.obs['dpt_pseudotime']) & (endo.obs['dpt_pseudotime'] < (c+1)*bin_w)]\n",
    "    exp_c = csr_matrix.sum(endo_c.X, 0)/csr_matrix.sum(endo_c.X)\n",
    "    exp_c = np.log(10**4 * exp_c + 1)\n",
    "    numcells[c] = endo_c.shape[0]\n",
    "    Y[int(c),:] = exp_c\n",
    "    t[int(c)] = np.median(endo_c.obs['dpt_pseudotime'])"
   ]
  },
  {
   "cell_type": "markdown",
   "metadata": {},
   "source": [
    "Is quantile normalization necessary?  If the distributions of genes across deciles is broadly different, then maybe"
   ]
  },
  {
   "cell_type": "code",
   "execution_count": 37,
   "metadata": {},
   "outputs": [
    {
     "data": {
      "image/png": "[encoded data removed]",
      "text/plain": [
       "<Figure size 432x288 with 4 Axes>"
      ]
     },
     "metadata": {
      "needs_background": "light"
     },
     "output_type": "display_data"
    }
   ],
   "source": [
    "fig, (ax1, ax2, ax3, ax4) = pl.subplots(4)\n",
    "fig.suptitle('Histograms of Expression for Separate Bins')\n",
    "ax1.hist(Y[0,:], bins=100)\n",
    "ax1.set(ylabel=\"Bin 1\")\n",
    "ax2.hist(Y[3,:], bins=100)\n",
    "ax2.set(ylabel=\"Bin 4\")\n",
    "ax3.hist(Y[6,:], bins=100)\n",
    "ax3.set(ylabel=\"Bin 7\")\n",
    "ax4.hist(Y[9,:], bins=100)\n",
    "ax4.set(ylabel=\"Bin 10\", xlabel=\"Lognorm Expression\")\n",
    "pl.show()\n",
    "# pl.hist(Y[1,:], bins=100)\n",
    "# pl.xlabel(\"Expression\")\n",
    "# pl.ylabel(\"Number of Genes\")\n",
    "# pl.show()"
   ]
  },
  {
   "cell_type": "markdown",
   "metadata": {},
   "source": [
    "Quantile normalize the data so each decile bin has a similar distribution across genes (skipping this as it may not be necessary and doesn't seem to be typically used)"
   ]
  },
  {
   "cell_type": "code",
   "execution_count": 57,
   "metadata": {},
   "outputs": [],
   "source": [
    "def quantile_normalize(data):\n",
    "    featranks = np.zeros(data.shape, dtype=int)\n",
    "    normdata = np.zeros(data.shape)\n",
    "    for i in range(len(featranks)):\n",
    "        featranks[i,:] = rankdata(data[i,:])\n",
    "    featranks -= 1\n",
    "    normexp = np.average(np.sort(data, axis=1), axis=0)\n",
    "    for i in range(data.shape[0]):\n",
    "        for g in range(data.shape[1]):\n",
    "            normdata[i,g] = normexp[featranks[i,g]]\n",
    "    return(normdata)\n",
    "# Ynorm = quantile_normalize(Y)\n",
    "Ynorm=Y"
   ]
  },
  {
   "cell_type": "markdown",
   "metadata": {},
   "source": [
    "Center and scale"
   ]
  },
  {
   "cell_type": "code",
   "execution_count": 59,
   "metadata": {},
   "outputs": [],
   "source": [
    "for g in range(Ynorm.shape[1]):\n",
    "    if stat.stdev(Ynorm[:,g])==0:\n",
    "        Ynorm[:,g] = np.zeros(10)\n",
    "    else:\n",
    "        Ynorm[:,g] = (Ynorm[:,g]-np.mean(Ynorm[:,g]))/stat.stdev(Ynorm[:,g])\n",
    "Yflat = Ynorm.flatten()"
   ]
  },
  {
   "cell_type": "code",
   "execution_count": 46,
   "metadata": {},
   "outputs": [
    {
     "data": {
      "text/plain": [
       "(10, 5000)"
      ]
     },
     "execution_count": 46,
     "metadata": {},
     "output_type": "execute_result"
    }
   ],
   "source": [
    "Ynorm.shape"
   ]
  },
  {
   "cell_type": "markdown",
   "metadata": {},
   "source": [
    "Take a look at how some of the key marker genes' expression varies over these bins"
   ]
  },
  {
   "cell_type": "code",
   "execution_count": 61,
   "metadata": {},
   "outputs": [],
   "source": [
    "genedict = {endo.var.index[i]:i for i in range(len(endo.var.index))}"
   ]
  },
  {
   "cell_type": "code",
   "execution_count": 62,
   "metadata": {},
   "outputs": [
    {
     "data": {
      "image/png": "[encoded data removed]",
      "text/plain": [
       "<Figure size 432x288 with 1 Axes>"
      ]
     },
     "metadata": {
      "needs_background": "light"
     },
     "output_type": "display_data"
    }
   ],
   "source": [
    "pl.plot(t, Ynorm[:,genedict[\"POU5F1\"]], \"o\")\n",
    "pl.ylabel(\"POU5F1\")\n",
    "pl.xlabel(\"Pseudotime\")\n",
    "pl.title(\"Pluripotency marker\")\n",
    "pl.show()"
   ]
  },
  {
   "cell_type": "code",
   "execution_count": 63,
   "metadata": {},
   "outputs": [
    {
     "data": {
      "image/png": "[encoded data removed]",
      "text/plain": [
       "<Figure size 432x288 with 1 Axes>"
      ]
     },
     "metadata": {
      "needs_background": "light"
     },
     "output_type": "display_data"
    }
   ],
   "source": [
    "pl.plot(t, Ynorm[:,genedict[\"MIXL1\"]], \"o\")\n",
    "pl.ylabel(\"MIXL1\")\n",
    "pl.xlabel(\"Pseudotime\")\n",
    "pl.title(\"Mesoderm marker\")\n",
    "pl.show()"
   ]
  },
  {
   "cell_type": "code",
   "execution_count": 64,
   "metadata": {},
   "outputs": [
    {
     "data": {
      "image/png": "[encoded data removed]",
      "text/plain": [
       "<Figure size 432x288 with 1 Axes>"
      ]
     },
     "metadata": {
      "needs_background": "light"
     },
     "output_type": "display_data"
    }
   ],
   "source": [
    "pl.plot(t, Ynorm[:,genedict[\"HAND1\"]], \"o\")\n",
    "pl.ylabel(\"HAND1\")\n",
    "pl.xlabel(\"Pseudotime\")\n",
    "pl.title(\"Early endothelial marker\")\n",
    "pl.show()"
   ]
  },
  {
   "cell_type": "code",
   "execution_count": 65,
   "metadata": {},
   "outputs": [
    {
     "data": {
      "image/png": "[encoded data removed]",
      "text/plain": [
       "<Figure size 432x288 with 1 Axes>"
      ]
     },
     "metadata": {
      "needs_background": "light"
     },
     "output_type": "display_data"
    }
   ],
   "source": [
    "pl.plot(t, Ynorm[:,genedict[\"GNG11\"]], \"o\")\n",
    "pl.ylabel(\"GNG11\")\n",
    "pl.xlabel(\"Pseudotime\")\n",
    "pl.title(\"Late endothelial marker\")\n",
    "pl.show()"
   ]
  },
  {
   "cell_type": "code",
   "execution_count": 66,
   "metadata": {},
   "outputs": [],
   "source": [
    "X = np.zeros([nC*nG,3])\n",
    "for c in range(nC):\n",
    "    X[c*nG:((c+1)*nG),0] = t[c]\n",
    "    X[c*nG:((c+1)*nG),1] = c\n",
    "    X[c*nG:((c+1)*nG),2] = list(range(nG))"
   ]
  },
  {
   "cell_type": "code",
   "execution_count": 67,
   "metadata": {},
   "outputs": [],
   "source": [
    "np.savetxt( \"../data/endo.X.txt\", X)\n",
    "np.savetxt(\"../data/endo.Y.txt\", Yflat)"
   ]
  },
  {
   "cell_type": "code",
   "execution_count": 69,
   "metadata": {},
   "outputs": [],
   "source": [
    "with open(\"../data/genedict.endo.pickle\", 'wb') as f:\n",
    "    pickle.dump(genedict, f)\n",
    "    f.close()"
   ]
  },
  {
   "cell_type": "code",
   "execution_count": null,
   "metadata": {},
   "outputs": [],
   "source": []
  }
 ],
 "metadata": {
  "kernelspec": {
   "display_name": "Python [conda env:myenv]",
   "language": "python",
   "name": "conda-env-myenv-py"
  },
  "language_info": {
   "codemirror_mode": {
    "name": "ipython",
    "version": 3
   },
   "file_extension": ".py",
   "mimetype": "text/x-python",
   "name": "python",
   "nbconvert_exporter": "python",
   "pygments_lexer": "ipython3",
   "version": "3.6.10"
  }
 },
 "nbformat": 4,
 "nbformat_minor": 2
}
